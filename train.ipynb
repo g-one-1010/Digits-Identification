{
 "cells": [
  {
   "cell_type": "code",
   "execution_count": null,
   "id": "6ad0fe58-545e-4899-98b7-70c62ddbe382",
   "metadata": {},
   "outputs": [],
   "source": [
    "import numpy as np\n",
    "import time\n",
    "import joblib"
   ]
  },
  {
   "cell_type": "code",
   "execution_count": null,
   "id": "fa9f0166-92c0-4207-af9f-315876f17baf",
   "metadata": {},
   "outputs": [],
   "source": [
    "test_images = './t10k-images.idx3-ubyte'\n",
    "test_labels = './t10k-labels.idx1-ubyte'\n",
    "train_images = './train-images.idx3-ubyte'\n",
    "train_labels = './train-labels.idx1-ubyte'"
   ]
  },
  {
   "cell_type": "code",
   "execution_count": null,
   "id": "1c854391-77da-4304-9c38-46a70d5d0e0b",
   "metadata": {},
   "outputs": [],
   "source": [
    "def read_images(file):\n",
    "    images = []\n",
    "    with open(file, 'rb') as f:\n",
    "        _ = f.read(4)\n",
    "        total_images = int.from_bytes(f.read(4), 'big')\n",
    "        rows = int.from_bytes(f.read(4), 'big')\n",
    "        columns = int.from_bytes(f.read(4), 'big')\n",
    "        total_pixels = rows*columns\n",
    "        for i in range(total_images):\n",
    "            image = []\n",
    "            for j in range(total_pixels):\n",
    "                pixel = int.from_bytes(f.read(1), 'big')\n",
    "                image.append(pixel)\n",
    "            images.append(image)\n",
    "    return images"
   ]
  },
  {
   "cell_type": "code",
   "execution_count": null,
   "id": "c7e191b3-b0ad-4f8c-9e99-bd04f4f7da9f",
   "metadata": {},
   "outputs": [],
   "source": [
    "X_train = np.array(read_images(train_images), dtype='float32')\n",
    "print(len(X_train))\n",
    "print(X_train[0])"
   ]
  },
  {
   "cell_type": "code",
   "execution_count": null,
   "id": "9a749be0-52d4-4262-9560-f14bc6c24307",
   "metadata": {},
   "outputs": [],
   "source": [
    "%matplotlib inline\n",
    "import matplotlib.pyplot as plt\n",
    "number = X_train[0]\n",
    "number = number.reshape((28, 28))\n",
    "plt.imshow(number, cmap='gray')\n",
    "plt.show()"
   ]
  },
  {
   "cell_type": "code",
   "execution_count": null,
   "id": "ad1e65ef-68dc-4003-84c8-36d7bca9af43",
   "metadata": {},
   "outputs": [],
   "source": [
    "def read_labels(file):\n",
    "    labels = []\n",
    "    with open(file, 'rb') as f:\n",
    "        _ = f.read(4)\n",
    "        total_labels = int.from_bytes(f.read(4), 'big')\n",
    "        for i in range(total_labels):\n",
    "            label = int.from_bytes(f.read(1), 'big')\n",
    "            labels.append(label)\n",
    "    return labels"
   ]
  },
  {
   "cell_type": "code",
   "execution_count": null,
   "id": "8c8f778b-884b-42cf-b34c-31a13ad65580",
   "metadata": {},
   "outputs": [],
   "source": [
    "Y_train = np.array(read_labels(train_labels), dtype='float32')\n",
    "print(len(Y_train))\n",
    "print(Y_train[0])"
   ]
  },
  {
   "cell_type": "code",
   "execution_count": null,
   "id": "2a1bc9c7-aed3-4ec5-a060-f9571a28d0a6",
   "metadata": {},
   "outputs": [],
   "source": [
    "X_test = np.array(read_images(test_images), dtype='float32')\n",
    "len(X_test)"
   ]
  },
  {
   "cell_type": "code",
   "execution_count": null,
   "id": "2ad64a66-f865-4905-abf8-0624f64a24e1",
   "metadata": {},
   "outputs": [],
   "source": [
    "Y_test = np.array(read_labels(test_labels), dtype='float32')\n",
    "len(Y_test)"
   ]
  },
  {
   "cell_type": "code",
   "execution_count": null,
   "id": "1af728a5-d085-4257-bfa3-f53917a574af",
   "metadata": {},
   "outputs": [],
   "source": [
    "from sklearn.ensemble import RandomForestClassifier as sk_rf\n",
    "forest_sk = sk_rf()"
   ]
  },
  {
   "cell_type": "code",
   "execution_count": null,
   "id": "b688eb3c-9156-4a46-9cf1-58bcecd3cf75",
   "metadata": {},
   "outputs": [],
   "source": [
    "start = time.time()\n",
    "forest_sk.fit(X_train, Y_train)\n",
    "end = time.time()\n",
    "print(f'Time taken by sklearn Random Forest: {end - start} seconds')"
   ]
  },
  {
   "cell_type": "code",
   "execution_count": null,
   "id": "0e5599d6-417e-49c1-842d-bdd7e820f474",
   "metadata": {},
   "outputs": [],
   "source": [
    "Label_predict_sk = forest_sk.predict(X_test)"
   ]
  },
  {
   "cell_type": "code",
   "execution_count": null,
   "id": "126aa082-6556-4a87-80e4-c832b62eda8d",
   "metadata": {},
   "outputs": [],
   "source": [
    "from sklearn.metrics import accuracy_score as as_sk\n",
    "print(f'Accuracy Score using sklearn : {as_sk(Label_predict_sk, Y_test)}')"
   ]
  },
  {
   "cell_type": "code",
   "execution_count": null,
   "id": "ed784fd9",
   "metadata": {},
   "outputs": [],
   "source": [
    "joblib.dump(forest_sk,'./rf.jobib')"
   ]
  }
 ],
 "metadata": {
  "kernelspec": {
   "display_name": "Python 3",
   "language": "python",
   "name": "python3"
  },
  "language_info": {
   "codemirror_mode": {
    "name": "ipython",
    "version": 3
   },
   "file_extension": ".py",
   "mimetype": "text/x-python",
   "name": "python",
   "nbconvert_exporter": "python",
   "pygments_lexer": "ipython3",
   "version": "3.9.12"
  }
 },
 "nbformat": 4,
 "nbformat_minor": 5
}
